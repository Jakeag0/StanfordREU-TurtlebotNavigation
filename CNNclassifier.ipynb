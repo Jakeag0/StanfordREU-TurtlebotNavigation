{
  "nbformat": 4,
  "nbformat_minor": 0,
  "metadata": {
    "colab": {
      "name": "CNNclassifier.ipynb",
      "provenance": [],
      "authorship_tag": "ABX9TyNVOqfLrSr3/I45PaTIQUhD",
      "include_colab_link": true
    },
    "kernelspec": {
      "name": "python3",
      "display_name": "Python 3"
    },
    "language_info": {
      "name": "python"
    }
  },
  "cells": [
    {
      "cell_type": "markdown",
      "metadata": {
        "id": "view-in-github",
        "colab_type": "text"
      },
      "source": [
        "<a href=\"https://colab.research.google.com/github/Jakeag0/StanfordREU-TurtlebotNavigation/blob/main/CNNclassifier.ipynb\" target=\"_parent\"><img src=\"https://colab.research.google.com/assets/colab-badge.svg\" alt=\"Open In Colab\"/></a>"
      ]
    },
    {
      "cell_type": "code",
      "execution_count": null,
      "metadata": {
        "id": "omRjoloJKIdb"
      },
      "outputs": [],
      "source": [
        "# import required modules from keras\n",
        "from keras.optimizers import Adam\n",
        "from keras.models import Sequential\n",
        "from keras.preprocessing.image import ImageDataGenerator\n",
        "from keras.layers import Conv2D, MaxPooling2D, Flatten, Dense, Activation\n",
        "\n",
        "# straight, left, right\n",
        "NUMBER_OF_CLASSES = 3\n",
        "# common for LeNET\n",
        "IMAGE_WIDTH, IMAGE_HEIGHT = 200, 200\n",
        "\n",
        "# Build Convolutional Neural Network model \n",
        "model = Sequential()\n",
        "model.add(Conv2D(32, kernel_size=(5, 5), padding=\"same\", input_shape=(IMAGE_WIDTH, IMAGE_HEIGHT, 3)))\n",
        "model.add(Activation(\"relu\"))\n",
        "model.add(MaxPooling2D(pool_size=(2, 2), strides=(2, 2)))\n",
        "model.add(Conv2D(64, kernel_size=(5, 5), padding=\"same\"))\n",
        "model.add(Activation(\"relu\"))\n",
        "model.add(MaxPooling2D(pool_size=(2, 2), strides=(2, 2)))\n",
        "\n",
        "model.add(Flatten())\n",
        "model.add(Dense(128))\n",
        "model.add(Activation(\"relu\"))\n",
        "model.add(Dense(NUMBER_OF_CLASSES))\n",
        "model.add(Activation(\"softmax\"))\n",
        "\n",
        "# Optimizer\n",
        "optimizer = Adam()\n",
        "\n",
        "# Compile Model\n",
        "model.compile(optimizer=optimizer, loss=\"categorical_crossentropy\", metrics=['accuracy'])\n",
        "\n",
        "# Fitting the Dataset\n",
        "\n",
        "# data augmentation by slightly altering images\n",
        "train_data_generator = ImageDataGenerator(\n",
        "    rescale=1./255,\n",
        "    shear_range=0.2,\n",
        "    zoom_range=0.2,\n",
        "    horizontal_flip=True)\n",
        "\n",
        "train_generator = train_data_generator.flow_from_directory(\n",
        "    directory=\"NASA_REU/training_set\",\n",
        "    target_size=(IMAGE_WIDTH, IMAGE_HEIGHT),\n",
        "    # number of images to be yielded per batch\n",
        "    batch_size=16,\n",
        "    class_mode=\"categorical\")\n",
        "\n",
        "test_data_generator = ImageDataGenerator(rescale=1./255)\n",
        "\n",
        "test_generator = test_data_generator.flow_from_directory(\n",
        "    directory=\"NASA_REU/test_set\",\n",
        "    target_size=(IMAGE_WIDTH, IMAGE_HEIGHT),\n",
        "    # number of images to be yielded per batch\n",
        "    batch_size=16,\n",
        "    class_mode=\"categorical\")\n",
        "\n",
        "model.fit_generator(train_generator, steps_per_epoch=100, epochs=5, validation_data=test_generator, validation_steps=100)\n",
        "\n",
        "# Saving Model in HDF file format\n",
        "model.save(\"CNN_classifier_le_net.h5\")"
      ]
    }
  ]
}